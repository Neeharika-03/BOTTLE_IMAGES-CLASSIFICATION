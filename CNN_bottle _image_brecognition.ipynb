{
 "cells": [
  {
   "cell_type": "code",
   "execution_count": 1,
   "metadata": {},
   "outputs": [],
   "source": [
    "import tensorflow as tf\n",
    "from tensorflow.keras.preprocessing.image import ImageDataGenerator, load_img, img_to_array\n",
    "from tensorflow.keras.models import Sequential, load_model\n",
    "from tensorflow.keras.layers import Conv2D, MaxPooling2D, Flatten, Dense, Dropout\n",
    "from tensorflow.keras.optimizers import Adam\n",
    "import os\n",
    "import numpy as np"
   ]
  },
  {
   "cell_type": "code",
   "execution_count": 2,
   "metadata": {},
   "outputs": [],
   "source": [
    "# Directories\n",
    "train_dir = '/Users/lalitaneeharikavajjhala/Desktop/Images_bottles/'\n",
    "\n",
    "# Check if directories exist\n",
    "if not os.path.exists(train_dir):\n",
    "    print(f\"Directory {train_dir} does not exist.\")\n",
    "else:\n",
    "    defective_dir = os.path.join(train_dir, 'defective_bottles')\n",
    "    non_defective_dir = os.path.join(train_dir, 'non_defective_bottles')\n",
    "    \n",
    "    if not os.path.exists(defective_dir):\n",
    "        print(f\"Directory {defective_dir} does not exist.\")\n",
    "    if not os.path.exists(non_defective_dir):\n",
    "        print(f\"Directory {non_defective_dir} does not exist.\")\n"
   ]
  },
  {
   "cell_type": "code",
   "execution_count": 3,
   "metadata": {},
   "outputs": [
    {
     "name": "stdout",
     "output_type": "stream",
     "text": [
      "Found 19 images belonging to 2 classes.\n",
      "Found 4 images belonging to 2 classes.\n"
     ]
    }
   ],
   "source": [
    "# Image Data Generator\n",
    "train_datagen = ImageDataGenerator(\n",
    "    rescale=1./255,        #rescale the pixels to the range [0-1] from the range [0-255]\n",
    "    validation_split=0.2,  # 20% validation split\n",
    ")\n",
    "\n",
    "train_generator = train_datagen.flow_from_directory(\n",
    "    train_dir,\n",
    "    target_size=(150, 150),  # Resize images to 150x150 pixels\n",
    "    batch_size=32,           #number of images to be processed per batch\n",
    "    class_mode='binary',    # Binary classification\n",
    "    subset='training'       #makes the image data generator focus on just the training data\n",
    ")\n",
    "\n",
    "validation_generator = train_datagen.flow_from_directory(\n",
    "    train_dir,\n",
    "    target_size=(150, 150),\n",
    "    batch_size=32,\n",
    "    class_mode='binary',\n",
    "    subset='validation'\n",
    ")"
   ]
  },
  {
   "cell_type": "code",
   "execution_count": 4,
   "metadata": {},
   "outputs": [
    {
     "name": "stderr",
     "output_type": "stream",
     "text": [
      "WARNING:absl:At this time, the v2.11+ optimizer `tf.keras.optimizers.Adam` runs slowly on M1/M2 Macs, please use the legacy Keras optimizer instead, located at `tf.keras.optimizers.legacy.Adam`.\n"
     ]
    },
    {
     "name": "stdout",
     "output_type": "stream",
     "text": [
      "Classes found: {'defective_bottles': 0, 'non_defective_bottles': 1}\n",
      "Number of training samples: 19\n",
      "Number of validation samples: 4\n"
     ]
    }
   ],
   "source": [
    "# Debug prints\n",
    "print(f\"Classes found: {train_generator.class_indices}\")\n",
    "print(f\"Number of training samples: {train_generator.samples}\")\n",
    "print(f\"Number of validation samples: {validation_generator.samples}\")\n",
    "\n",
    "# CNN Model\n",
    "model = Sequential([\n",
    "    Conv2D(32, (3, 3), activation='relu', input_shape=(150, 150, 3)),      #initial layer, 32 filters, (3x3) is the std kernel size, relu activation introduces non linearity, which helps the model understand complex patterns\n",
    "    MaxPooling2D((2, 2)),                        #maxpooling layer reduces the dimensional complexities and helps reduce overfitting, with pooling size 2x2, which ensures enough info is gathered \n",
    "    Conv2D(64, (3, 3), activation='relu'),                #input shape corresponds to the 150x150 pixels and 3 colors - RGB\n",
    "    MaxPooling2D((2, 2)),\n",
    "    Conv2D(128, (3, 3), activation='relu'),\n",
    "    MaxPooling2D((2, 2)),\n",
    "    Flatten(),                         #helps convert the 2D array to a 1D array suitable for the Dense layers\n",
    "    Dense(512, activation='relu'),      #the dense layers do the actual classification \n",
    "    Dropout(0.5),                       #dropout layer ignores unnecessary info preventing overfitting with a dropout rate of 50%\n",
    "    Dense(1, activation='sigmoid')      #the sigmoid function helps in getting an output that is the probability, in the range 0-1\n",
    "])\n",
    "\n",
    "# Compile the model\n",
    "model.compile(\n",
    "    optimizer=Adam(),            #adam optimizer sets and updates the learning rates for each parameter individually, according to the properties of the parameters\n",
    "    loss='binary_crossentropy',    #prevents the loss function value\n",
    "    metrics=['accuracy']\n",
    ")"
   ]
  },
  {
   "cell_type": "code",
   "execution_count": 5,
   "metadata": {},
   "outputs": [
    {
     "name": "stdout",
     "output_type": "stream",
     "text": [
      "Epoch 1/10\n",
      "1/1 [==============================] - 1s 877ms/step - loss: 0.6826 - accuracy: 0.5263 - val_loss: 2.3438 - val_accuracy: 0.5000\n",
      "Epoch 2/10\n",
      "1/1 [==============================] - 0s 439ms/step - loss: 1.9877 - accuracy: 0.5789 - val_loss: 1.7394 - val_accuracy: 0.5000\n",
      "Epoch 3/10\n",
      "1/1 [==============================] - 0s 446ms/step - loss: 2.1376 - accuracy: 0.4211 - val_loss: 0.7966 - val_accuracy: 0.5000\n",
      "Epoch 4/10\n",
      "1/1 [==============================] - 0s 439ms/step - loss: 0.9435 - accuracy: 0.4211 - val_loss: 0.7403 - val_accuracy: 0.5000\n",
      "Epoch 5/10\n",
      "1/1 [==============================] - 0s 437ms/step - loss: 0.6306 - accuracy: 0.5789 - val_loss: 0.7736 - val_accuracy: 0.5000\n",
      "Epoch 6/10\n",
      "1/1 [==============================] - 0s 438ms/step - loss: 0.6002 - accuracy: 0.6842 - val_loss: 0.7404 - val_accuracy: 0.5000\n",
      "Epoch 7/10\n",
      "1/1 [==============================] - 0s 436ms/step - loss: 0.5672 - accuracy: 0.8421 - val_loss: 0.8412 - val_accuracy: 0.5000\n",
      "Epoch 8/10\n",
      "1/1 [==============================] - 0s 438ms/step - loss: 0.5088 - accuracy: 0.8421 - val_loss: 0.9835 - val_accuracy: 0.5000\n",
      "Epoch 9/10\n",
      "1/1 [==============================] - 0s 438ms/step - loss: 0.4502 - accuracy: 0.8947 - val_loss: 0.9539 - val_accuracy: 0.5000\n",
      "Epoch 10/10\n",
      "1/1 [==============================] - 0s 436ms/step - loss: 0.4321 - accuracy: 0.7895 - val_loss: 1.2762 - val_accuracy: 0.5000\n",
      "Model saved to /Users/lalitaneeharikavajjhala/bottle_classifier.h5\n",
      "Training Accuracy: 78.9474\n",
      "Validation Accuracy: 50.0000\n"
     ]
    },
    {
     "name": "stderr",
     "output_type": "stream",
     "text": [
      "/Library/Frameworks/Python.framework/Versions/3.11/lib/python3.11/site-packages/keras/src/engine/training.py:3103: UserWarning: You are saving your model as an HDF5 file via `model.save()`. This file format is considered legacy. We recommend using instead the native Keras format, e.g. `model.save('my_model.keras')`.\n",
      "  saving_api.save_model(\n"
     ]
    }
   ],
   "source": [
    "# Train the model only if there are samples\n",
    "if train_generator.samples > 0 and validation_generator.samples > 0:     #checks whether samples are present in the training and validation sets\n",
    "    history = model.fit(            #performs validation \n",
    "        train_generator,        #the generator that provides batches of trained data\n",
    "        steps_per_epoch=max(1, train_generator.samples // train_generator.batch_size),     #number of batches of samples to train the model on per epoch, ensuring model trains on the entire dataset (value = 1)\n",
    "        validation_data=validation_generator,\n",
    "        validation_steps=max(1, validation_generator.samples // validation_generator.batch_size),\n",
    "        epochs=10     #number of epochs that the validation process will run for \n",
    "    )\n",
    "    \n",
    "    # Save the model to a writable directory\n",
    "    model_save_path = os.path.expanduser('~/bottle_classifier.h5')\n",
    "    model.save(model_save_path)\n",
    "    print(f\"Model saved to {model_save_path}\")\n",
    "\n",
    "    # Print the accuracy\n",
    "    training_accuracy = history.history['accuracy'][-1]\n",
    "    validation_accuracy = history.history['val_accuracy'][-1]\n",
    "    print(f\"Training Accuracy: {training_accuracy*100:.4f}\")\n",
    "    print(f\"Validation Accuracy: {validation_accuracy*100:.4f}\")\n",
    "\n",
    "else:\n",
    "    print(\"No training or validation samples found. Please check the dataset directory and structure.\")\n"
   ]
  },
  {
   "cell_type": "code",
   "execution_count": 6,
   "metadata": {},
   "outputs": [],
   "source": [
    "def predict_defect(image_path):\n",
    "    # Load the saved model\n",
    "    model = load_model(os.path.expanduser('/Users/lalitaneeharikavajjhala/bottle_classifier.h5'))\n",
    "    \n",
    "    # Load and preprocess the image\n",
    "    img = load_img(image_path, target_size=(150, 150))   #resizing the image to match the initial dimensions \n",
    "    img_array = img_to_array(img)      #converts image from python image library format to numpy array format\n",
    "    img_array = np.expand_dims(img_array, axis=0)     #adds a dimension that makes it suitable to be processed by the model\n",
    "    img_array /= 255.0  # Rescale image to [0-1] pixels\n",
    "    \n",
    "    # Predict the class\n",
    "    prediction = model.predict(img_array)\n",
    "    \n",
    "    if prediction[0] > 0.5:\n",
    "        print(f\"The bottle in the image is predicted to be defective.\")\n",
    "    else:\n",
    "        print(f\"The bottle in the image is predicted to be non-defective.\")"
   ]
  },
  {
   "cell_type": "code",
   "execution_count": 7,
   "metadata": {},
   "outputs": [
    {
     "name": "stderr",
     "output_type": "stream",
     "text": [
      "WARNING:absl:At this time, the v2.11+ optimizer `tf.keras.optimizers.Adam` runs slowly on M1/M2 Macs, please use the legacy Keras optimizer instead, located at `tf.keras.optimizers.legacy.Adam`.\n"
     ]
    },
    {
     "name": "stdout",
     "output_type": "stream",
     "text": [
      "1/1 [==============================] - 0s 44ms/step\n",
      "The bottle in the image is predicted to be non-defective.\n"
     ]
    }
   ],
   "source": [
    "# Example usage\n",
    "predict_defect('/Users/lalitaneeharikavajjhala/Desktop/Images_bottles/image_test.jpg')"
   ]
  }
 ],
 "metadata": {
  "kernelspec": {
   "display_name": "Python 3",
   "language": "python",
   "name": "python3"
  },
  "language_info": {
   "codemirror_mode": {
    "name": "ipython",
    "version": 3
   },
   "file_extension": ".py",
   "mimetype": "text/x-python",
   "name": "python",
   "nbconvert_exporter": "python",
   "pygments_lexer": "ipython3",
   "version": "3.11.8"
  }
 },
 "nbformat": 4,
 "nbformat_minor": 2
}
